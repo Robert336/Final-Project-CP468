{
 "cells": [
  {
   "cell_type": "code",
   "execution_count": null,
   "metadata": {},
   "outputs": [],
   "source": [
    "!pip install numpy\n",
    "!pip install pandas\n",
    "!pip install matplotlib\n",
    "!pip install folium\n",
    "!pip install sklearn"
   ]
  }
 ],
 "metadata": {
  "kernelspec": {
   "display_name": "Python 3.10.4 64-bit",
   "language": "python",
   "name": "python3"
  },
  "language_info": {
   "name": "python",
   "version": "3.10.4"
  },
  "orig_nbformat": 4,
  "vscode": {
   "interpreter": {
    "hash": "797a9957bc75de0d212fc45004d953b4066e1aaa9007c0e6e0eb4f0a99edd7b5"
   }
  }
 },
 "nbformat": 4,
 "nbformat_minor": 2
}
