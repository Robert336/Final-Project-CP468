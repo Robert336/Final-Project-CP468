{
 "cells": [
  {
   "cell_type": "markdown",
   "metadata": {},
   "source": [
    "# Formula 1 Race Predictor\n",
    "### CP468 Final Project\n",
    "### By: Robert Mazza and Ronny Yehia\n",
    "\n",
    "Data set used: https://www.kaggle.com/code/johnnymcclorey/f1-exploratory-analysis\n",
    "\n",
    "See the README for more contextual information around this project.\n",
    "\n",
    "# Data Collection and Cleaning\n",
    "## Qualifying\n",
    "\n",
    "## Races\n",
    "\n",
    "## Grand Prix Weekends\n",
    "\n",
    "## Results\n",
    "\n",
    "## Driver Standings\n",
    "\n",
    "## Constructors Standings\n",
    "\n",
    "# Data Analysis\n",
    "\n",
    "# Data Preperation\n",
    "\n",
    "# Machine Learning Model\n",
    "\n",
    "\n",
    "\n",
    "\n"
   ]
  }
 ],
 "metadata": {
  "language_info": {
   "name": "python"
  },
  "orig_nbformat": 4
 },
 "nbformat": 4,
 "nbformat_minor": 2
}
